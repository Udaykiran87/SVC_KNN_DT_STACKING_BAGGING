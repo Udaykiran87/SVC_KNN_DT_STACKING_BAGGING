{
 "cells": [
  {
   "cell_type": "code",
   "execution_count": 1,
   "id": "41b7e099",
   "metadata": {},
   "outputs": [],
   "source": [
    "import pandas as pd \n",
    "import numpy as np\n",
    "from sklearn.model_selection import train_test_split , GridSearchCV\n",
    "from sklearn.metrics import accuracy_score , confusion_matrix , roc_auc_score , roc_curve, classification_report\n",
    "from pandas_profiling import ProfileReport\n",
    "from sklearn.neighbors import KNeighborsClassifier\n",
    "from sklearn.preprocessing import StandardScaler\n",
    "import pickle\n",
    "import os\n",
    "import csv\n",
    "import logging\n",
    "from pandas_profiling import ProfileReport"
   ]
  },
  {
   "cell_type": "code",
   "execution_count": 2,
   "id": "05ac3e09",
   "metadata": {},
   "outputs": [],
   "source": [
    "class Human_activity_recognition_knn(object):\n",
    "    def __init__(self,dir_path):\n",
    "        self.dir_path = dir_path\n",
    "        logging.basicConfig(filename='knn.log', level=logging.DEBUG,\n",
    "                    format='%(asctime)s:%(levelname)s:%(message)s')\n",
    "        logging.info('Human_activity_recognition_knn class object is created.')\n",
    "        \n",
    "    def prepare_datset(self):\n",
    "        \"\"\"\n",
    "        Create a final csv-'merge.csv'from the directory folder to be used as dataframe for later stage.\n",
    "        \n",
    "        \n",
    "        Parameters\n",
    "        ----------\n",
    "        None\n",
    "        \n",
    "        Returns:\n",
    "        ----------\n",
    "        None        \n",
    "        \"\"\"   \n",
    "        logging.info('Dataset preparation started from the raw data.') \n",
    "        try:\n",
    "            # assign directory\n",
    "            directory = self.dir_path\n",
    "\n",
    "            # iterate over files in\n",
    "            # that directory\n",
    "            folder_file_dict = {}\n",
    "            for filename in os.listdir(directory):\n",
    "                f = os.path.join(directory, filename)\n",
    "                # checking if it is not a file\n",
    "                if not os.path.isfile(f):\n",
    "                    file_list = [os.path.join(f, sub_filename) for sub_filename in os.listdir(f) if sub_filename != \"README.txt\"]\n",
    "                    folder_file_dict[filename] = file_list      \n",
    "            header = []\n",
    "            df_list = []\n",
    "            for key in folder_file_dict:\n",
    "                for file in folder_file_dict[key]:\n",
    "                    with open(file, \"r\", encoding=\"shift_jis\", errors=\"\", newline=\"\" ) as f:\n",
    "                        lst = csv.reader(f, delimiter=\",\")\n",
    "                        df = pd.DataFrame(lst)\n",
    "                        df.drop(df.columns[[0,4,5,6,7]], axis=1, inplace =True)\n",
    "                        df_list.append(df)\n",
    "                merged_df = pd.concat(df_list)\n",
    "                merged_df.columns = [\"frontal_axis_reading(g)\",\"vertical_axis_reading(g)\",\"lateral_axis_reading(g)\",\"activity\"]\n",
    "                merged_df.to_csv('merged.csv', index=None, header=True)\n",
    "        except Exception as e:\n",
    "            logging.error(\"{} occured while creating datasets from the raw data.\".format(str(e)))               \n",
    "            \n",
    "    def load_dataset(self):\n",
    "        \"\"\"\n",
    "        Load csv file as pandas dataframe.\n",
    "        \n",
    "        \n",
    "        Parameters\n",
    "        ----------\n",
    "        None\n",
    "        \n",
    "        Returns:\n",
    "        ----------\n",
    "        None        \n",
    "        \"\"\"\n",
    "        logging.info('Dataset is getting loaded as pandas dataframe.')\n",
    "        try:        \n",
    "            self.df = pd.read_csv(\"merged.csv\") \n",
    "            self.df.drop(['time','Unnamed: 8'], axis=1, inplace=True)\n",
    "        except FileNotFoundError:\n",
    "            logging.error(\"File not found: exception occured while loading csv as pandas dataframe.\")\n",
    "        except pd.errors.EmptyDataError:\n",
    "            logging.error(\"No data: exception occured while loading csv as pandas dataframe.\")\n",
    "        except pd.errors.ParserError:\n",
    "            logging.errornt(\"Parse error: exception occured while loading csv as pandas dataframe.\")\n",
    "        except Exception as e:\n",
    "            logging.error(\"{} occured while loading csv as pandas dataframe.\".format(str(e)))\n",
    "            \n",
    "    def create_profile_report(self,inp_df):\n",
    "        \"\"\"\n",
    "        Create pandas profile report for the input data frame.\n",
    "        \n",
    "        \n",
    "        Parameters\n",
    "        ----------\n",
    "        inp_df: Input data frame.\n",
    "        \n",
    "        Returns:\n",
    "        ----------\n",
    "        None        \n",
    "        \"\"\"    \n",
    "        logging.info('Profile reporting started for dataframe.')\n",
    "        return ProfileReport(inp_df)\n",
    "    \n",
    "    def handle_outlier(self):\n",
    "        \"\"\"\n",
    "        remove outliers for the impacted feature columns.\n",
    "\n",
    "\n",
    "        Parameters\n",
    "        ----------\n",
    "        None\n",
    "\n",
    "        Returns:\n",
    "        ----------\n",
    "        None        \n",
    "        \"\"\"\n",
    "        logging.info('Outliers are getting removed.')\n",
    "        q = self.df['lateral_axis_reading(g)'].quantile(.90)\n",
    "        self.df_new = self.df[self.df['lateral_axis_reading(g)'] < q]\n",
    "        \n",
    "    def standard_scaling(self):\n",
    "        \"\"\"\n",
    "        Perform standard scaling on input dataframe.\n",
    "        \n",
    "        \n",
    "        Parameters\n",
    "        ----------\n",
    "        None\n",
    "        \n",
    "        Returns:\n",
    "        ----------\n",
    "        None        \n",
    "        \"\"\"      \n",
    "        logging.info('Standard scalling started for feature columsn.')\n",
    "        self.y = self.df_new['activity']\n",
    "        self.x = self.df_new.drop(columns=['activity'])\n",
    "        scalar = StandardScaler()\n",
    "        self.x_scaled = scalar.fit_transform(self.x)\n",
    "        self.df_new_scalar = pd.DataFrame(scalar.fit_transform(self.df_new))\n",
    "        \n",
    "    def train_test_split(self, test_size, random_state):\n",
    "        \"\"\"\n",
    "        Split data frame into train and test.\n",
    "         \n",
    "        Parameters\n",
    "        ----------\n",
    "        None\n",
    "        \n",
    "        Returns:\n",
    "        ----------\n",
    "        Train and test data for feature and predicted columns.        \n",
    "        \"\"\"\n",
    "        logging.info('train and test split for dataframe started.')\n",
    "        self.x_train, self.x_test, self.y_train, self.y_test = train_test_split(self.x_scaled , self.y , test_size = test_size , random_state = random_state)\n",
    "        \n",
    "    def hyperparam_tuning_fit(self):        \n",
    "        knn = KNeighborsClassifier()\n",
    "        k_range = list(range(1, 31))\n",
    "        param = dict(n_neighbors=k_range)\n",
    "\n",
    "        # defining parameter range\n",
    "        self.grid = GridSearchCV(knn, param_grid = param, verbose = 3) # default: refit = True, cv = 5       \n",
    "        \n",
    "        # fitting the model for grid search\n",
    "        self.knn_model = self.grid.fit(self.x_train, self.y_train)\n",
    "\n",
    "        # print best parameter after tuning\n",
    "        print(self.grid.best_params_)\n",
    "\n",
    "        # print how our model looks after hyper-parameter tuning\n",
    "        print(self.grid.best_estimator_)\n",
    "        \n",
    "    def calc_classification_score(self):\n",
    "        \"\"\"\n",
    "        Calculate the classification score.\n",
    "        \n",
    "        Parameters\n",
    "        ----------\n",
    "        None. \n",
    "        \n",
    "        Returns:\n",
    "        ----------\n",
    "        None. \n",
    "        \"\"\"        \n",
    "        grid_predictions = self.grid.predict(self.x_test)\n",
    "\n",
    "        # print classification report\n",
    "        print(classification_report(self.y_test, grid_predictions)) \n",
    "\n",
    "        \n",
    "    def predict(self,test_case):\n",
    "        \"\"\"\n",
    "        Predict the dependent feature based on the input test case.\n",
    "        \n",
    "        Parameters\n",
    "        ----------\n",
    "        test_case: It is the independent variable list value. \n",
    "        \n",
    "        Returns:\n",
    "        ----------\n",
    "        Returns the predicted feature. \n",
    "        \"\"\"               \n",
    "        logging.info('Prediction will be done for the testcase {}.'.format(test_case))\n",
    "        try:\n",
    "            return self.grid.predict(test_case)\n",
    "        except Exception as e:\n",
    "            logging.error(\"{} occured while predicting dependent feature.\".format(str(e)))\n",
    "            return None\n",
    "        \n",
    "    def save_knn_model(self,file_name):\n",
    "        \"\"\"\n",
    "        Save the knn model based on the input file name.\n",
    "        \n",
    "        Parameters\n",
    "        ----------\n",
    "        file_name: knn model will be saved with this file name. \n",
    "        \n",
    "        Returns:\n",
    "        ----------\n",
    "        None. \n",
    "        \"\"\"  \n",
    "        logging.info('Save knn model into file: {}.'.format(file_name))\n",
    "        try:\n",
    "            pickle.dump(self.knn_model,open(file_name,'wb'))\n",
    "        except Exception as e:\n",
    "            logging.error(\"{} occured while saving knn model.\".format(str(e)))        "
   ]
  },
  {
   "cell_type": "code",
   "execution_count": 3,
   "id": "841c0552",
   "metadata": {},
   "outputs": [],
   "source": [
    "knn_obj = Human_activity_recognition_knn('../Datasets_Healthy_Older_People')"
   ]
  },
  {
   "cell_type": "code",
   "execution_count": 4,
   "id": "2876e498",
   "metadata": {},
   "outputs": [],
   "source": [
    "knn_obj.prepare_datset()"
   ]
  },
  {
   "cell_type": "code",
   "execution_count": 5,
   "id": "e8882f1e",
   "metadata": {},
   "outputs": [],
   "source": [
    "knn_obj.load_dataset()"
   ]
  },
  {
   "cell_type": "code",
   "execution_count": 6,
   "id": "93761d52",
   "metadata": {},
   "outputs": [
    {
     "data": {
      "application/vnd.jupyter.widget-view+json": {
       "model_id": "c92bc1be77d84afb8018d49a900acedf",
       "version_major": 2,
       "version_minor": 0
      },
      "text/plain": [
       "Summarize dataset:   0%|          | 0/17 [00:00<?, ?it/s]"
      ]
     },
     "metadata": {},
     "output_type": "display_data"
    },
    {
     "data": {
      "application/vnd.jupyter.widget-view+json": {
       "model_id": "50beb7e29622479e82109166d256cd57",
       "version_major": 2,
       "version_minor": 0
      },
      "text/plain": [
       "Generate report structure:   0%|          | 0/1 [00:00<?, ?it/s]"
      ]
     },
     "metadata": {},
     "output_type": "display_data"
    },
    {
     "data": {
      "application/vnd.jupyter.widget-view+json": {
       "model_id": "",
       "version_major": 2,
       "version_minor": 0
      },
      "text/plain": [
       "Render widgets:   0%|          | 0/1 [00:00<?, ?it/s]"
      ]
     },
     "metadata": {},
     "output_type": "display_data"
    },
    {
     "data": {
      "application/vnd.jupyter.widget-view+json": {
       "model_id": "039b5255b44e4334b1b458b7c6314279",
       "version_major": 2,
       "version_minor": 0
      },
      "text/plain": [
       "VBox(children=(Tab(children=(Tab(children=(GridBox(children=(VBox(children=(GridspecLayout(children=(HTML(valu…"
      ]
     },
     "metadata": {},
     "output_type": "display_data"
    },
    {
     "data": {
      "application/vnd.jupyter.widget-view+json": {
       "model_id": "cd6bd52814aa4cd99806e28adc044007",
       "version_major": 2,
       "version_minor": 0
      },
      "text/plain": [
       "Render HTML:   0%|          | 0/1 [00:00<?, ?it/s]"
      ]
     },
     "metadata": {},
     "output_type": "display_data"
    },
    {
     "data": {
      "application/vnd.jupyter.widget-view+json": {
       "model_id": "9def24cc127d4eec8b804d3b9930c0c0",
       "version_major": 2,
       "version_minor": 0
      },
      "text/plain": [
       "Export report to file:   0%|          | 0/1 [00:00<?, ?it/s]"
      ]
     },
     "metadata": {},
     "output_type": "display_data"
    }
   ],
   "source": [
    "inp_df = knn_obj.df\n",
    "pf = knn_obj.create_profile_report(inp_df)\n",
    "pf.to_widgets()\n",
    "pf.to_file(\"har_profiling.html\")"
   ]
  },
  {
   "cell_type": "code",
   "execution_count": 12,
   "id": "8abd3f58",
   "metadata": {},
   "outputs": [],
   "source": [
    "knn_obj.handle_outlier()"
   ]
  },
  {
   "cell_type": "code",
   "execution_count": 13,
   "id": "79706637",
   "metadata": {},
   "outputs": [],
   "source": [
    "knn_obj.standard_scaling()"
   ]
  },
  {
   "cell_type": "code",
   "execution_count": 14,
   "id": "2f92c29c",
   "metadata": {},
   "outputs": [],
   "source": [
    "knn_obj.train_test_split(0.2,144)"
   ]
  },
  {
   "cell_type": "code",
   "execution_count": 15,
   "id": "e4ae6961",
   "metadata": {},
   "outputs": [
    {
     "name": "stdout",
     "output_type": "stream",
     "text": [
      "Fitting 5 folds for each of 30 candidates, totalling 150 fits\n",
      "[CV 1/5] END .....................n_neighbors=1;, score=0.978 total time=   1.8s\n",
      "[CV 2/5] END .....................n_neighbors=1;, score=0.982 total time=   1.6s\n",
      "[CV 3/5] END .....................n_neighbors=1;, score=0.981 total time=   1.6s\n",
      "[CV 4/5] END .....................n_neighbors=1;, score=0.979 total time=   1.6s\n",
      "[CV 5/5] END .....................n_neighbors=1;, score=0.979 total time=   1.6s\n",
      "[CV 1/5] END .....................n_neighbors=2;, score=0.975 total time=   1.6s\n",
      "[CV 2/5] END .....................n_neighbors=2;, score=0.978 total time=   1.6s\n",
      "[CV 3/5] END .....................n_neighbors=2;, score=0.978 total time=   1.6s\n",
      "[CV 4/5] END .....................n_neighbors=2;, score=0.976 total time=   1.6s\n",
      "[CV 5/5] END .....................n_neighbors=2;, score=0.974 total time=   1.6s\n",
      "[CV 1/5] END .....................n_neighbors=3;, score=0.975 total time=   1.6s\n",
      "[CV 2/5] END .....................n_neighbors=3;, score=0.975 total time=   1.6s\n",
      "[CV 3/5] END .....................n_neighbors=3;, score=0.975 total time=   1.6s\n",
      "[CV 4/5] END .....................n_neighbors=3;, score=0.974 total time=   1.6s\n",
      "[CV 5/5] END .....................n_neighbors=3;, score=0.972 total time=   1.6s\n",
      "[CV 1/5] END .....................n_neighbors=4;, score=0.971 total time=   1.6s\n",
      "[CV 2/5] END .....................n_neighbors=4;, score=0.972 total time=   1.6s\n",
      "[CV 3/5] END .....................n_neighbors=4;, score=0.969 total time=   1.6s\n",
      "[CV 4/5] END .....................n_neighbors=4;, score=0.970 total time=   1.7s\n",
      "[CV 5/5] END .....................n_neighbors=4;, score=0.970 total time=   1.6s\n",
      "[CV 1/5] END .....................n_neighbors=5;, score=0.970 total time=   1.6s\n",
      "[CV 2/5] END .....................n_neighbors=5;, score=0.972 total time=   1.6s\n",
      "[CV 3/5] END .....................n_neighbors=5;, score=0.969 total time=   1.6s\n",
      "[CV 4/5] END .....................n_neighbors=5;, score=0.969 total time=   1.6s\n",
      "[CV 5/5] END .....................n_neighbors=5;, score=0.969 total time=   1.6s\n",
      "[CV 1/5] END .....................n_neighbors=6;, score=0.968 total time=   1.6s\n",
      "[CV 2/5] END .....................n_neighbors=6;, score=0.969 total time=   1.6s\n",
      "[CV 3/5] END .....................n_neighbors=6;, score=0.967 total time=   1.6s\n",
      "[CV 4/5] END .....................n_neighbors=6;, score=0.966 total time=   1.7s\n",
      "[CV 5/5] END .....................n_neighbors=6;, score=0.968 total time=   1.8s\n",
      "[CV 1/5] END .....................n_neighbors=7;, score=0.965 total time=   1.6s\n",
      "[CV 2/5] END .....................n_neighbors=7;, score=0.968 total time=   1.6s\n",
      "[CV 3/5] END .....................n_neighbors=7;, score=0.966 total time=   1.6s\n",
      "[CV 4/5] END .....................n_neighbors=7;, score=0.965 total time=   1.6s\n",
      "[CV 5/5] END .....................n_neighbors=7;, score=0.966 total time=   1.7s\n",
      "[CV 1/5] END .....................n_neighbors=8;, score=0.964 total time=   1.7s\n",
      "[CV 2/5] END .....................n_neighbors=8;, score=0.966 total time=   1.6s\n",
      "[CV 3/5] END .....................n_neighbors=8;, score=0.965 total time=   1.6s\n",
      "[CV 4/5] END .....................n_neighbors=8;, score=0.962 total time=   1.6s\n",
      "[CV 5/5] END .....................n_neighbors=8;, score=0.962 total time=   1.6s\n",
      "[CV 1/5] END .....................n_neighbors=9;, score=0.963 total time=   1.7s\n",
      "[CV 2/5] END .....................n_neighbors=9;, score=0.964 total time=   1.7s\n",
      "[CV 3/5] END .....................n_neighbors=9;, score=0.964 total time=   1.7s\n",
      "[CV 4/5] END .....................n_neighbors=9;, score=0.960 total time=   1.8s\n",
      "[CV 5/5] END .....................n_neighbors=9;, score=0.962 total time=   1.7s\n",
      "[CV 1/5] END ....................n_neighbors=10;, score=0.961 total time=   1.7s\n",
      "[CV 2/5] END ....................n_neighbors=10;, score=0.963 total time=   1.7s\n",
      "[CV 3/5] END ....................n_neighbors=10;, score=0.962 total time=   1.7s\n",
      "[CV 4/5] END ....................n_neighbors=10;, score=0.959 total time=   1.7s\n",
      "[CV 5/5] END ....................n_neighbors=10;, score=0.959 total time=   1.7s\n",
      "[CV 1/5] END ....................n_neighbors=11;, score=0.960 total time=   1.7s\n",
      "[CV 2/5] END ....................n_neighbors=11;, score=0.963 total time=   1.7s\n",
      "[CV 3/5] END ....................n_neighbors=11;, score=0.961 total time=   1.7s\n",
      "[CV 4/5] END ....................n_neighbors=11;, score=0.958 total time=   1.7s\n",
      "[CV 5/5] END ....................n_neighbors=11;, score=0.958 total time=   1.7s\n",
      "[CV 1/5] END ....................n_neighbors=12;, score=0.959 total time=   1.7s\n",
      "[CV 2/5] END ....................n_neighbors=12;, score=0.961 total time=   1.7s\n",
      "[CV 3/5] END ....................n_neighbors=12;, score=0.959 total time=   1.7s\n",
      "[CV 4/5] END ....................n_neighbors=12;, score=0.957 total time=   1.7s\n",
      "[CV 5/5] END ....................n_neighbors=12;, score=0.957 total time=   1.7s\n",
      "[CV 1/5] END ....................n_neighbors=13;, score=0.958 total time=   1.7s\n",
      "[CV 2/5] END ....................n_neighbors=13;, score=0.961 total time=   1.7s\n",
      "[CV 3/5] END ....................n_neighbors=13;, score=0.960 total time=   1.7s\n",
      "[CV 4/5] END ....................n_neighbors=13;, score=0.956 total time=   1.7s\n",
      "[CV 5/5] END ....................n_neighbors=13;, score=0.957 total time=   1.8s\n",
      "[CV 1/5] END ....................n_neighbors=14;, score=0.957 total time=   1.8s\n",
      "[CV 2/5] END ....................n_neighbors=14;, score=0.959 total time=   1.9s\n",
      "[CV 3/5] END ....................n_neighbors=14;, score=0.959 total time=   1.8s\n",
      "[CV 4/5] END ....................n_neighbors=14;, score=0.955 total time=   1.7s\n",
      "[CV 5/5] END ....................n_neighbors=14;, score=0.956 total time=   1.7s\n",
      "[CV 1/5] END ....................n_neighbors=15;, score=0.957 total time=   1.7s\n",
      "[CV 2/5] END ....................n_neighbors=15;, score=0.960 total time=   1.7s\n",
      "[CV 3/5] END ....................n_neighbors=15;, score=0.959 total time=   1.8s\n",
      "[CV 4/5] END ....................n_neighbors=15;, score=0.954 total time=   1.7s\n",
      "[CV 5/5] END ....................n_neighbors=15;, score=0.956 total time=   1.7s\n",
      "[CV 1/5] END ....................n_neighbors=16;, score=0.957 total time=   1.7s\n",
      "[CV 2/5] END ....................n_neighbors=16;, score=0.958 total time=   1.7s\n",
      "[CV 3/5] END ....................n_neighbors=16;, score=0.959 total time=   1.8s\n",
      "[CV 4/5] END ....................n_neighbors=16;, score=0.954 total time=   1.8s\n",
      "[CV 5/5] END ....................n_neighbors=16;, score=0.956 total time=   1.7s\n",
      "[CV 1/5] END ....................n_neighbors=17;, score=0.956 total time=   1.7s\n",
      "[CV 2/5] END ....................n_neighbors=17;, score=0.958 total time=   1.7s\n",
      "[CV 3/5] END ....................n_neighbors=17;, score=0.959 total time=   1.9s\n",
      "[CV 4/5] END ....................n_neighbors=17;, score=0.955 total time=   1.8s\n",
      "[CV 5/5] END ....................n_neighbors=17;, score=0.956 total time=   1.8s\n",
      "[CV 1/5] END ....................n_neighbors=18;, score=0.956 total time=   1.7s\n",
      "[CV 2/5] END ....................n_neighbors=18;, score=0.957 total time=   1.7s\n",
      "[CV 3/5] END ....................n_neighbors=18;, score=0.958 total time=   1.7s\n",
      "[CV 4/5] END ....................n_neighbors=18;, score=0.956 total time=   1.7s\n",
      "[CV 5/5] END ....................n_neighbors=18;, score=0.956 total time=   1.7s\n",
      "[CV 1/5] END ....................n_neighbors=19;, score=0.956 total time=   1.7s\n",
      "[CV 2/5] END ....................n_neighbors=19;, score=0.956 total time=   1.7s\n",
      "[CV 3/5] END ....................n_neighbors=19;, score=0.958 total time=   1.7s\n",
      "[CV 4/5] END ....................n_neighbors=19;, score=0.955 total time=   1.7s\n",
      "[CV 5/5] END ....................n_neighbors=19;, score=0.955 total time=   1.8s\n",
      "[CV 1/5] END ....................n_neighbors=20;, score=0.956 total time=   1.8s\n",
      "[CV 2/5] END ....................n_neighbors=20;, score=0.957 total time=   1.7s\n",
      "[CV 3/5] END ....................n_neighbors=20;, score=0.958 total time=   1.7s\n",
      "[CV 4/5] END ....................n_neighbors=20;, score=0.955 total time=   1.8s\n",
      "[CV 5/5] END ....................n_neighbors=20;, score=0.954 total time=   2.1s\n",
      "[CV 1/5] END ....................n_neighbors=21;, score=0.955 total time=   1.8s\n"
     ]
    },
    {
     "name": "stdout",
     "output_type": "stream",
     "text": [
      "[CV 2/5] END ....................n_neighbors=21;, score=0.956 total time=   1.8s\n",
      "[CV 3/5] END ....................n_neighbors=21;, score=0.957 total time=   1.8s\n",
      "[CV 4/5] END ....................n_neighbors=21;, score=0.955 total time=   1.8s\n",
      "[CV 5/5] END ....................n_neighbors=21;, score=0.954 total time=   1.8s\n",
      "[CV 1/5] END ....................n_neighbors=22;, score=0.955 total time=   1.7s\n",
      "[CV 2/5] END ....................n_neighbors=22;, score=0.955 total time=   1.8s\n",
      "[CV 3/5] END ....................n_neighbors=22;, score=0.956 total time=   1.8s\n",
      "[CV 4/5] END ....................n_neighbors=22;, score=0.954 total time=   1.7s\n",
      "[CV 5/5] END ....................n_neighbors=22;, score=0.953 total time=   1.8s\n",
      "[CV 1/5] END ....................n_neighbors=23;, score=0.955 total time=   1.8s\n",
      "[CV 2/5] END ....................n_neighbors=23;, score=0.955 total time=   1.8s\n",
      "[CV 3/5] END ....................n_neighbors=23;, score=0.955 total time=   1.7s\n",
      "[CV 4/5] END ....................n_neighbors=23;, score=0.952 total time=   1.8s\n",
      "[CV 5/5] END ....................n_neighbors=23;, score=0.953 total time=   1.8s\n",
      "[CV 1/5] END ....................n_neighbors=24;, score=0.953 total time=   1.8s\n",
      "[CV 2/5] END ....................n_neighbors=24;, score=0.954 total time=   1.8s\n",
      "[CV 3/5] END ....................n_neighbors=24;, score=0.955 total time=   1.8s\n",
      "[CV 4/5] END ....................n_neighbors=24;, score=0.952 total time=   1.8s\n",
      "[CV 5/5] END ....................n_neighbors=24;, score=0.952 total time=   1.8s\n",
      "[CV 1/5] END ....................n_neighbors=25;, score=0.952 total time=   1.8s\n",
      "[CV 2/5] END ....................n_neighbors=25;, score=0.953 total time=   1.8s\n",
      "[CV 3/5] END ....................n_neighbors=25;, score=0.954 total time=   1.8s\n",
      "[CV 4/5] END ....................n_neighbors=25;, score=0.951 total time=   1.8s\n",
      "[CV 5/5] END ....................n_neighbors=25;, score=0.950 total time=   1.8s\n",
      "[CV 1/5] END ....................n_neighbors=26;, score=0.952 total time=   1.8s\n",
      "[CV 2/5] END ....................n_neighbors=26;, score=0.952 total time=   1.8s\n",
      "[CV 3/5] END ....................n_neighbors=26;, score=0.954 total time=   1.8s\n",
      "[CV 4/5] END ....................n_neighbors=26;, score=0.950 total time=   1.8s\n",
      "[CV 5/5] END ....................n_neighbors=26;, score=0.950 total time=   1.8s\n",
      "[CV 1/5] END ....................n_neighbors=27;, score=0.951 total time=   1.8s\n",
      "[CV 2/5] END ....................n_neighbors=27;, score=0.953 total time=   1.8s\n",
      "[CV 3/5] END ....................n_neighbors=27;, score=0.953 total time=   1.8s\n",
      "[CV 4/5] END ....................n_neighbors=27;, score=0.950 total time=   1.8s\n",
      "[CV 5/5] END ....................n_neighbors=27;, score=0.949 total time=   1.8s\n",
      "[CV 1/5] END ....................n_neighbors=28;, score=0.950 total time=   1.8s\n",
      "[CV 2/5] END ....................n_neighbors=28;, score=0.952 total time=   1.8s\n",
      "[CV 3/5] END ....................n_neighbors=28;, score=0.953 total time=   1.8s\n",
      "[CV 4/5] END ....................n_neighbors=28;, score=0.950 total time=   1.8s\n",
      "[CV 5/5] END ....................n_neighbors=28;, score=0.948 total time=   1.8s\n",
      "[CV 1/5] END ....................n_neighbors=29;, score=0.950 total time=   1.8s\n",
      "[CV 2/5] END ....................n_neighbors=29;, score=0.952 total time=   1.8s\n",
      "[CV 3/5] END ....................n_neighbors=29;, score=0.953 total time=   1.8s\n",
      "[CV 4/5] END ....................n_neighbors=29;, score=0.950 total time=   1.8s\n",
      "[CV 5/5] END ....................n_neighbors=29;, score=0.948 total time=   1.8s\n",
      "[CV 1/5] END ....................n_neighbors=30;, score=0.949 total time=   1.8s\n",
      "[CV 2/5] END ....................n_neighbors=30;, score=0.950 total time=   1.8s\n",
      "[CV 3/5] END ....................n_neighbors=30;, score=0.953 total time=   1.8s\n",
      "[CV 4/5] END ....................n_neighbors=30;, score=0.950 total time=   1.8s\n",
      "[CV 5/5] END ....................n_neighbors=30;, score=0.948 total time=   1.8s\n",
      "{'n_neighbors': 1}\n",
      "KNeighborsClassifier(n_neighbors=1)\n"
     ]
    }
   ],
   "source": [
    "knn_obj.hyperparam_tuning_fit()"
   ]
  },
  {
   "cell_type": "code",
   "execution_count": 16,
   "id": "e6632bf7",
   "metadata": {},
   "outputs": [
    {
     "name": "stdout",
     "output_type": "stream",
     "text": [
      "              precision    recall  f1-score   support\n",
      "\n",
      "           1       0.96      0.97      0.96      2637\n",
      "           2       0.90      0.93      0.91       691\n",
      "           3       1.00      1.00      1.00      9809\n",
      "           4       0.87      0.77      0.82       382\n",
      "\n",
      "    accuracy                           0.98     13519\n",
      "   macro avg       0.93      0.92      0.92     13519\n",
      "weighted avg       0.98      0.98      0.98     13519\n",
      "\n"
     ]
    }
   ],
   "source": [
    "knn_obj.calc_classification_score()"
   ]
  },
  {
   "cell_type": "code",
   "execution_count": 21,
   "id": "e197169d",
   "metadata": {},
   "outputs": [
    {
     "name": "stdout",
     "output_type": "stream",
     "text": [
      "[array([-0.47399757,  1.41783671,  0.83561075])]\n",
      "[1]\n"
     ]
    }
   ],
   "source": [
    "testcase = [knn_obj.x_test[0]]\n",
    "print(testcase)\n",
    "print(knn_obj.predict(testcase))"
   ]
  },
  {
   "cell_type": "code",
   "execution_count": 22,
   "id": "d49dbfca",
   "metadata": {},
   "outputs": [],
   "source": [
    "knn_obj.save_knn_model('knn_model')"
   ]
  },
  {
   "cell_type": "code",
   "execution_count": null,
   "id": "4d589051",
   "metadata": {},
   "outputs": [],
   "source": []
  }
 ],
 "metadata": {
  "kernelspec": {
   "display_name": "Python 3 (ipykernel)",
   "language": "python",
   "name": "python3"
  },
  "language_info": {
   "codemirror_mode": {
    "name": "ipython",
    "version": 3
   },
   "file_extension": ".py",
   "mimetype": "text/x-python",
   "name": "python",
   "nbconvert_exporter": "python",
   "pygments_lexer": "ipython3",
   "version": "3.7.10"
  }
 },
 "nbformat": 4,
 "nbformat_minor": 5
}
