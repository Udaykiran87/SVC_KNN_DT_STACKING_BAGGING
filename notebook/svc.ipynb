{
 "cells": [
  {
   "cell_type": "code",
   "execution_count": 1,
   "id": "7f1e4524",
   "metadata": {},
   "outputs": [],
   "source": [
    "import pandas as pd\n",
    "import numpy as np\n",
    "from sklearn.tree import DecisionTreeClassifier\n",
    "from sklearn import tree\n",
    "from sklearn.model_selection import train_test_split, GridSearchCV\n",
    "from pandas_profiling import ProfileReport\n",
    "import numpy as np\n",
    "from sklearn.svm import SVC ## support vectore classifier\n",
    "from sklearn.metrics import accuracy_score, confusion_matrix, roc_curve, roc_auc_score, precision_score, recall_score, f1_score, classification_report\n",
    "import seaborn as sns\n",
    "import pickle\n",
    "import os\n",
    "import csv\n",
    "import logging\n",
    "from matplotlib import pyplot\n",
    "from sklearn.preprocessing import StandardScaler"
   ]
  },
  {
   "cell_type": "code",
   "execution_count": 2,
   "id": "eec519a4",
   "metadata": {},
   "outputs": [],
   "source": [
    "class Human_activity_recognition_svc(object):\n",
    "    def __init__(self,dir_path):\n",
    "        self.dir_path = dir_path\n",
    "        logging.basicConfig(filename='svc.log', level=logging.DEBUG,\n",
    "                    format='%(asctime)s:%(levelname)s:%(message)s')\n",
    "        logging.info('Human_activity_recognition_svc class object is created.')\n",
    "        \n",
    "    def prepare_datset(self):\n",
    "        \"\"\"\n",
    "        Create a final csv-'merge.csv'from the directory folder to be used as dataframe for later stage.\n",
    "        \n",
    "        \n",
    "        Parameters\n",
    "        ----------\n",
    "        None\n",
    "        \n",
    "        Returns:\n",
    "        ----------\n",
    "        None        \n",
    "        \"\"\"   \n",
    "        logging.info('Dataset preparation started from the raw data.') \n",
    "        try:\n",
    "            # assign directory\n",
    "            directory = self.dir_path\n",
    "\n",
    "            # iterate over files in\n",
    "            # that directory\n",
    "            folder_file_dict = {}\n",
    "            for filename in os.listdir(directory):\n",
    "                f = os.path.join(directory, filename)\n",
    "                # checking if it is not a file\n",
    "                if not os.path.isfile(f):\n",
    "                    file_list = [os.path.join(f, sub_filename) for sub_filename in os.listdir(f) if sub_filename != \"README.txt\"]\n",
    "                    folder_file_dict[filename] = file_list      \n",
    "            header = []\n",
    "            df_list = []\n",
    "            for key in folder_file_dict:\n",
    "                for file in folder_file_dict[key]:\n",
    "                    with open(file, \"r\", encoding=\"shift_jis\", errors=\"\", newline=\"\" ) as f:\n",
    "                        lst = csv.reader(f, delimiter=\",\")\n",
    "                        df = pd.DataFrame(lst)\n",
    "                        df.drop(df.columns[[0,4,5,6,7]], axis=1, inplace =True)\n",
    "                        df_list.append(df)\n",
    "                merged_df = pd.concat(df_list)\n",
    "                merged_df.columns = [\"frontal_axis_reading(g)\",\"vertical_axis_reading(g)\",\"lateral_axis_reading(g)\",\"activity\"]\n",
    "                merged_df.to_csv('merged.csv', index=None, header=True)\n",
    "        except Exception as e:\n",
    "            logging.error(\"{} occured while creating datasets from the raw data.\".format(str(e)))               \n",
    "            \n",
    "    def load_dataset(self):\n",
    "        \"\"\"\n",
    "        Load csv file as pandas dataframe.\n",
    "        \n",
    "        \n",
    "        Parameters\n",
    "        ----------\n",
    "        None\n",
    "        \n",
    "        Returns:\n",
    "        ----------\n",
    "        None        \n",
    "        \"\"\"\n",
    "        logging.info('Dataset is getting loaded as pandas dataframe.')\n",
    "        try:        \n",
    "            self.df = pd.read_csv(\"merged.csv\") \n",
    "            self.df.drop(['time','Unnamed: 8'], axis=1, inplace=True)\n",
    "        except FileNotFoundError:\n",
    "            logging.error(\"File not found: exception occured while loading csv as pandas dataframe.\")\n",
    "        except pd.errors.EmptyDataError:\n",
    "            logging.error(\"No data: exception occured while loading csv as pandas dataframe.\")\n",
    "        except pd.errors.ParserError:\n",
    "            logging.errornt(\"Parse error: exception occured while loading csv as pandas dataframe.\")\n",
    "        except Exception as e:\n",
    "            logging.error(\"{} occured while loading csv as pandas dataframe.\".format(str(e)))\n",
    "            \n",
    "    def create_profile_report(self,inp_df):\n",
    "        \"\"\"\n",
    "        Create pandas profile report for the input data frame.\n",
    "        \n",
    "        \n",
    "        Parameters\n",
    "        ----------\n",
    "        inp_df: Input data frame.\n",
    "        \n",
    "        Returns:\n",
    "        ----------\n",
    "        None        \n",
    "        \"\"\"    \n",
    "        logging.info('Profile reporting started for dataframe.')\n",
    "        return ProfileReport(inp_df)\n",
    "    \n",
    "    def handle_outlier(self):\n",
    "        \"\"\"\n",
    "        remove outliers for the impacted feature columns.\n",
    "\n",
    "\n",
    "        Parameters\n",
    "        ----------\n",
    "        None\n",
    "\n",
    "        Returns:\n",
    "        ----------\n",
    "        None        \n",
    "        \"\"\"\n",
    "        logging.info('Outliers are getting removed.')\n",
    "        q = self.df['lateral_axis_reading(g)'].quantile(.90)\n",
    "        self.df_new = self.df[self.df['lateral_axis_reading(g)'] < q]\n",
    "        \n",
    "    def standard_scaling(self):\n",
    "        \"\"\"\n",
    "        Perform standard scaling on input dataframe.\n",
    "        \n",
    "        \n",
    "        Parameters\n",
    "        ----------\n",
    "        None\n",
    "        \n",
    "        Returns:\n",
    "        ----------\n",
    "        None        \n",
    "        \"\"\"      \n",
    "        logging.info('Standard scalling started for feature columsn.')\n",
    "        self.y = self.df_new['activity']\n",
    "        self.x = self.df_new.drop(columns=['activity'])\n",
    "        scalar = StandardScaler()\n",
    "        self.x_scaled = scalar.fit_transform(self.x)\n",
    "        self.df_new_scalar = pd.DataFrame(scalar.fit_transform(self.df_new))\n",
    "        \n",
    "    def train_test_split(self, test_size, random_state):\n",
    "        \"\"\"\n",
    "        Split data frame into train and test.\n",
    "         \n",
    "        Parameters\n",
    "        ----------\n",
    "        None\n",
    "        \n",
    "        Returns:\n",
    "        ----------\n",
    "        Train and test data for feature and predicted columns.        \n",
    "        \"\"\"\n",
    "        logging.info('train and test split for dataframe started.')\n",
    "        self.x_train, self.x_test, self.y_train, self.y_test = train_test_split(self.x_scaled , self.y , test_size = test_size , random_state = random_state)\n",
    "        \n",
    "    def hyperparam_tuning_fit(self):\n",
    "        # defining parameter range\n",
    "        param = {'C': [0.1, 1, 10, 100, 1000],\n",
    "                      'gamma': [1, 0.1, 0.01, 0.001, 0.0001],\n",
    "                      'kernel': ['linear', 'poly', 'rbf', 'sigmoid' ]}    \n",
    "\n",
    "        self.grid = GridSearchCV(SVC(), param_grid = param, refit = True, verbose = 3)       \n",
    "        \n",
    "        # fitting the model for grid search\n",
    "        self.svm_model = self.grid.fit(self.x_train, self.y_train)\n",
    "\n",
    "        # print best parameter after tuning\n",
    "        print(self.grid.best_params_)\n",
    "\n",
    "        # print how our model looks after hyper-parameter tuning\n",
    "        print(self.grid.best_estimator_)\n",
    "        \n",
    "    def calc_classification_score(self):\n",
    "        \"\"\"\n",
    "        Calculate the classification score.\n",
    "        \n",
    "        Parameters\n",
    "        ----------\n",
    "        None. \n",
    "        \n",
    "        Returns:\n",
    "        ----------\n",
    "        None. \n",
    "        \"\"\"        \n",
    "        grid_predictions = self.grid.predict(self.x_test)\n",
    "\n",
    "        # print classification report\n",
    "        print(classification_report(self.y_test, grid_predictions)) \n",
    "\n",
    "        \n",
    "    def predict(self,test_case):\n",
    "        \"\"\"\n",
    "        Predict the dependent feature based on the input test case.\n",
    "        \n",
    "        Parameters\n",
    "        ----------\n",
    "        test_case: It is the independent variable list value. \n",
    "        \n",
    "        Returns:\n",
    "        ----------\n",
    "        Returns the predicted feature. \n",
    "        \"\"\"               \n",
    "        logging.info('Prediction will be done for the testcase {}.'.format(test_case))\n",
    "        try:\n",
    "            return self.grid.predict(test_case)\n",
    "        except Exception as e:\n",
    "            logging.error(\"{} occured while predicting dependent feature.\".format(str(e)))\n",
    "            return None\n",
    "        \n",
    "    def save_svc_model(self,file_name):\n",
    "        \"\"\"\n",
    "        Save the svc model based on the input file name.\n",
    "        \n",
    "        Parameters\n",
    "        ----------\n",
    "        file_name: svc model will be saved with this file name. \n",
    "        \n",
    "        Returns:\n",
    "        ----------\n",
    "        None. \n",
    "        \"\"\"  \n",
    "        logging.info('Save svm model into file: {}.'.format(file_name))\n",
    "        try:\n",
    "            pickle.dump(self.svm_model,open(file_name,'wb'))\n",
    "        except Exception as e:\n",
    "            logging.error(\"{} occured while saving svm model.\".format(str(e)))        "
   ]
  },
  {
   "cell_type": "code",
   "execution_count": 3,
   "id": "db24e1a1",
   "metadata": {},
   "outputs": [],
   "source": [
    "svc_obj = Human_activity_recognition_svc('../Datasets_Healthy_Older_People')"
   ]
  },
  {
   "cell_type": "code",
   "execution_count": 4,
   "id": "f1aae561",
   "metadata": {},
   "outputs": [],
   "source": [
    "svc_obj.prepare_datset()"
   ]
  },
  {
   "cell_type": "code",
   "execution_count": 5,
   "id": "416855f6",
   "metadata": {},
   "outputs": [],
   "source": [
    "svc_obj.load_dataset()"
   ]
  },
  {
   "cell_type": "code",
   "execution_count": 6,
   "id": "a20b3c02",
   "metadata": {},
   "outputs": [
    {
     "data": {
      "application/vnd.jupyter.widget-view+json": {
       "model_id": "44acc2008b3a497198802a14bdd7dab3",
       "version_major": 2,
       "version_minor": 0
      },
      "text/plain": [
       "Summarize dataset:   0%|          | 0/17 [00:00<?, ?it/s]"
      ]
     },
     "metadata": {},
     "output_type": "display_data"
    },
    {
     "data": {
      "application/vnd.jupyter.widget-view+json": {
       "model_id": "fbf2745afd204f16baadac71db72f314",
       "version_major": 2,
       "version_minor": 0
      },
      "text/plain": [
       "Generate report structure:   0%|          | 0/1 [00:00<?, ?it/s]"
      ]
     },
     "metadata": {},
     "output_type": "display_data"
    },
    {
     "data": {
      "application/vnd.jupyter.widget-view+json": {
       "model_id": "",
       "version_major": 2,
       "version_minor": 0
      },
      "text/plain": [
       "Render widgets:   0%|          | 0/1 [00:00<?, ?it/s]"
      ]
     },
     "metadata": {},
     "output_type": "display_data"
    },
    {
     "data": {
      "application/vnd.jupyter.widget-view+json": {
       "model_id": "6f74d36bb41f489e90ef3b9575a41722",
       "version_major": 2,
       "version_minor": 0
      },
      "text/plain": [
       "VBox(children=(Tab(children=(Tab(children=(GridBox(children=(VBox(children=(GridspecLayout(children=(HTML(valu…"
      ]
     },
     "metadata": {},
     "output_type": "display_data"
    },
    {
     "data": {
      "application/vnd.jupyter.widget-view+json": {
       "model_id": "19fc84ee0e2941f69fefb98e14b576f3",
       "version_major": 2,
       "version_minor": 0
      },
      "text/plain": [
       "Render HTML:   0%|          | 0/1 [00:00<?, ?it/s]"
      ]
     },
     "metadata": {},
     "output_type": "display_data"
    },
    {
     "data": {
      "application/vnd.jupyter.widget-view+json": {
       "model_id": "26aefaef2813403db11a6a7fddfcdcb8",
       "version_major": 2,
       "version_minor": 0
      },
      "text/plain": [
       "Export report to file:   0%|          | 0/1 [00:00<?, ?it/s]"
      ]
     },
     "metadata": {},
     "output_type": "display_data"
    }
   ],
   "source": [
    "inp_df = svc_obj.df\n",
    "pf = svc_obj.create_profile_report(inp_df)\n",
    "pf.to_widgets()\n",
    "pf.to_file(\"har_profiling.html\")"
   ]
  },
  {
   "cell_type": "code",
   "execution_count": 7,
   "id": "fba8f1ae",
   "metadata": {},
   "outputs": [
    {
     "data": {
      "image/png": "[encoded data removed]",
      "text/plain": [
       "<Figure size 720x504 with 1 Axes>"
      ]
     },
     "metadata": {
      "needs_background": "light"
     },
     "output_type": "display_data"
    }
   ],
   "source": [
    "fig = pyplot.figure(figsize =(10, 7))\n",
    " \n",
    "# Creating plot\n",
    "pyplot.boxplot(inp_df)\n",
    " \n",
    "# show plot\n",
    "pyplot.show()"
   ]
  },
  {
   "cell_type": "code",
   "execution_count": 8,
   "id": "0cca9886",
   "metadata": {},
   "outputs": [],
   "source": [
    "svc_obj.handle_outlier()"
   ]
  },
  {
   "cell_type": "code",
   "execution_count": 9,
   "id": "1ee7e87c",
   "metadata": {},
   "outputs": [],
   "source": [
    "svc_obj.standard_scaling()"
   ]
  },
  {
   "cell_type": "code",
   "execution_count": 10,
   "id": "8fd505e8",
   "metadata": {},
   "outputs": [],
   "source": [
    "svc_obj.train_test_split(0.2,144)"
   ]
  },
  {
   "cell_type": "code",
   "execution_count": 11,
   "id": "b48fe23e",
   "metadata": {},
   "outputs": [
    {
     "name": "stdout",
     "output_type": "stream",
     "text": [
      "Fitting 5 folds for each of 1 candidates, totalling 5 fits\n",
      "[CV 1/5] END ........C=100, gamma=1, kernel=rbf;, score=0.940 total time=  53.0s\n",
      "[CV 2/5] END ........C=100, gamma=1, kernel=rbf;, score=0.940 total time=  54.2s\n",
      "[CV 3/5] END ........C=100, gamma=1, kernel=rbf;, score=0.942 total time= 1.2min\n",
      "[CV 4/5] END ........C=100, gamma=1, kernel=rbf;, score=0.939 total time=  56.6s\n",
      "[CV 5/5] END ........C=100, gamma=1, kernel=rbf;, score=0.939 total time=  55.5s\n",
      "{'C': 100, 'gamma': 1, 'kernel': 'rbf'}\n",
      "SVC(C=100, gamma=1)\n"
     ]
    }
   ],
   "source": [
    "svc_obj.hyperparam_tuning_fit()"
   ]
  },
  {
   "cell_type": "code",
   "execution_count": 12,
   "id": "9aa3b468",
   "metadata": {},
   "outputs": [
    {
     "name": "stdout",
     "output_type": "stream",
     "text": [
      "              precision    recall  f1-score   support\n",
      "\n",
      "           1       0.80      0.95      0.87      2637\n",
      "           2       0.75      0.41      0.53       691\n",
      "           3       1.00      1.00      1.00      9809\n",
      "           4       0.70      0.33      0.45       382\n",
      "\n",
      "    accuracy                           0.94     13519\n",
      "   macro avg       0.81      0.67      0.71     13519\n",
      "weighted avg       0.94      0.94      0.93     13519\n",
      "\n"
     ]
    }
   ],
   "source": [
    "svc_obj.calc_classification_score()"
   ]
  },
  {
   "cell_type": "code",
   "execution_count": 14,
   "id": "2fd5f396",
   "metadata": {},
   "outputs": [
    {
     "name": "stdout",
     "output_type": "stream",
     "text": [
      "[array([-0.47399757,  1.41783671,  0.83561075])]\n",
      "[1]\n"
     ]
    }
   ],
   "source": [
    "testcase = [svc_obj.x_test[0]]\n",
    "print(testcase)\n",
    "print(svc_obj.predict(testcase))"
   ]
  },
  {
   "cell_type": "code",
   "execution_count": 15,
   "id": "72aac26d",
   "metadata": {},
   "outputs": [],
   "source": [
    "svc_obj.save_svc_model('svc_model')"
   ]
  },
  {
   "cell_type": "code",
   "execution_count": null,
   "id": "c943cd9d",
   "metadata": {},
   "outputs": [],
   "source": []
  }
 ],
 "metadata": {
  "kernelspec": {
   "display_name": "Python 3 (ipykernel)",
   "language": "python",
   "name": "python3"
  },
  "language_info": {
   "codemirror_mode": {
    "name": "ipython",
    "version": 3
   },
   "file_extension": ".py",
   "mimetype": "text/x-python",
   "name": "python",
   "nbconvert_exporter": "python",
   "pygments_lexer": "ipython3",
   "version": "3.7.10"
  }
 },
 "nbformat": 4,
 "nbformat_minor": 5
}
